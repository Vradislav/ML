{
 "cells": [
  {
   "cell_type": "code",
   "execution_count": 49,
   "id": "f6b289af",
   "metadata": {},
   "outputs": [],
   "source": [
    "try:\n",
    "    %tensorflow_version 2.x\n",
    "except Exception:\n",
    "    pass\n",
    "import tensorflow as tf\n",
    "\n",
    "import tensorflow_hub as hub\n",
    "\n",
    "from tensorflow.keras import layers\n",
    "import bert\n",
    "import pandas as pd\n",
    "import numpy as np\n",
    "import math"
   ]
  },
  {
   "cell_type": "code",
   "execution_count": 8,
   "id": "90a019ab",
   "metadata": {},
   "outputs": [
    {
     "data": {
      "text/plain": [
       "(16237, 9)"
      ]
     },
     "execution_count": 8,
     "metadata": {},
     "output_type": "execute_result"
    }
   ],
   "source": [
    "avito_ad = pd.read_csv(\"val.csv\")\n",
    "\n",
    "avito_ad.isnull().values.any()\n",
    "\n",
    "avito_ad.shape"
   ]
  },
  {
   "cell_type": "code",
   "execution_count": 9,
   "id": "424f10af",
   "metadata": {},
   "outputs": [
    {
     "data": {
      "text/html": [
       "<div>\n",
       "<style scoped>\n",
       "    .dataframe tbody tr th:only-of-type {\n",
       "        vertical-align: middle;\n",
       "    }\n",
       "\n",
       "    .dataframe tbody tr th {\n",
       "        vertical-align: top;\n",
       "    }\n",
       "\n",
       "    .dataframe thead th {\n",
       "        text-align: right;\n",
       "    }\n",
       "</style>\n",
       "<table border=\"1\" class=\"dataframe\">\n",
       "  <thead>\n",
       "    <tr style=\"text-align: right;\">\n",
       "      <th></th>\n",
       "      <th>title</th>\n",
       "      <th>description</th>\n",
       "      <th>subcategory</th>\n",
       "      <th>category</th>\n",
       "      <th>price</th>\n",
       "      <th>region</th>\n",
       "      <th>city</th>\n",
       "      <th>datetime_submitted</th>\n",
       "      <th>is_bad</th>\n",
       "    </tr>\n",
       "  </thead>\n",
       "  <tbody>\n",
       "    <tr>\n",
       "      <th>0</th>\n",
       "      <td>Шины</td>\n",
       "      <td>Звонить 89425546881</td>\n",
       "      <td>Запчасти и аксессуары</td>\n",
       "      <td>Транспорт</td>\n",
       "      <td>2000.0</td>\n",
       "      <td>Тульская область</td>\n",
       "      <td>Огаревка</td>\n",
       "      <td>2019-10-10 00:00:25.200714</td>\n",
       "      <td>1</td>\n",
       "    </tr>\n",
       "    <tr>\n",
       "      <th>1</th>\n",
       "      <td>Продается мобильная перегородка с дверью</td>\n",
       "      <td>Мобильная перегородка, предназначена для разгр...</td>\n",
       "      <td>Оборудование для бизнеса</td>\n",
       "      <td>Для бизнеса</td>\n",
       "      <td>10500.0</td>\n",
       "      <td>Вологодская область</td>\n",
       "      <td>Вологда</td>\n",
       "      <td>2019-10-10 00:03:11.527292</td>\n",
       "      <td>0</td>\n",
       "    </tr>\n",
       "    <tr>\n",
       "      <th>2</th>\n",
       "      <td>Комплект зимних шин на дисках 682/32/64</td>\n",
       "      <td>Шины зимние б/у Marshal Assimetric I”Zen KW 61...</td>\n",
       "      <td>Запчасти и аксессуары</td>\n",
       "      <td>Транспорт</td>\n",
       "      <td>4000.0</td>\n",
       "      <td>Россия</td>\n",
       "      <td>Москва</td>\n",
       "      <td>2019-10-10 00:05:07.193248</td>\n",
       "      <td>1</td>\n",
       "    </tr>\n",
       "    <tr>\n",
       "      <th>3</th>\n",
       "      <td>Кровать-трансормер Дакота сб-4085</td>\n",
       "      <td>Продаю кровать-трансформер производства \"Столп...</td>\n",
       "      <td>Мебель и интерьер</td>\n",
       "      <td>Для дома и дачи</td>\n",
       "      <td>17000.0</td>\n",
       "      <td>Московская область</td>\n",
       "      <td>Химки</td>\n",
       "      <td>2019-10-10 00:05:58.165179</td>\n",
       "      <td>0</td>\n",
       "    </tr>\n",
       "    <tr>\n",
       "      <th>4</th>\n",
       "      <td>Honda VFR 800 2004 г.в</td>\n",
       "      <td>Мот в отличном состоянии для своих лет, Родной...</td>\n",
       "      <td>Мотоциклы и мототехника</td>\n",
       "      <td>Транспорт</td>\n",
       "      <td>235000.0</td>\n",
       "      <td>Брянская область</td>\n",
       "      <td>Брянск</td>\n",
       "      <td>2019-10-10 00:06:19.231151</td>\n",
       "      <td>0</td>\n",
       "    </tr>\n",
       "  </tbody>\n",
       "</table>\n",
       "</div>"
      ],
      "text/plain": [
       "                                      title  \\\n",
       "0                                      Шины   \n",
       "1  Продается мобильная перегородка с дверью   \n",
       "2   Комплект зимних шин на дисках 682/32/64   \n",
       "3         Кровать-трансормер Дакота сб-4085   \n",
       "4                    Honda VFR 800 2004 г.в   \n",
       "\n",
       "                                         description  \\\n",
       "0                                Звонить 89425546881   \n",
       "1  Мобильная перегородка, предназначена для разгр...   \n",
       "2  Шины зимние б/у Marshal Assimetric I”Zen KW 61...   \n",
       "3  Продаю кровать-трансформер производства \"Столп...   \n",
       "4  Мот в отличном состоянии для своих лет, Родной...   \n",
       "\n",
       "                subcategory         category     price               region  \\\n",
       "0     Запчасти и аксессуары        Транспорт    2000.0     Тульская область   \n",
       "1  Оборудование для бизнеса      Для бизнеса   10500.0  Вологодская область   \n",
       "2     Запчасти и аксессуары        Транспорт    4000.0               Россия   \n",
       "3         Мебель и интерьер  Для дома и дачи   17000.0   Московская область   \n",
       "4   Мотоциклы и мототехника        Транспорт  235000.0     Брянская область   \n",
       "\n",
       "       city          datetime_submitted  is_bad  \n",
       "0  Огаревка  2019-10-10 00:00:25.200714       1  \n",
       "1   Вологда  2019-10-10 00:03:11.527292       0  \n",
       "2    Москва  2019-10-10 00:05:07.193248       1  \n",
       "3     Химки  2019-10-10 00:05:58.165179       0  \n",
       "4    Брянск  2019-10-10 00:06:19.231151       0  "
      ]
     },
     "execution_count": 9,
     "metadata": {},
     "output_type": "execute_result"
    }
   ],
   "source": [
    "avito_ad.head()"
   ]
  },
  {
   "cell_type": "code",
   "execution_count": 10,
   "id": "eadfa154",
   "metadata": {},
   "outputs": [
    {
     "data": {
      "text/html": [
       "<div>\n",
       "<style scoped>\n",
       "    .dataframe tbody tr th:only-of-type {\n",
       "        vertical-align: middle;\n",
       "    }\n",
       "\n",
       "    .dataframe tbody tr th {\n",
       "        vertical-align: top;\n",
       "    }\n",
       "\n",
       "    .dataframe thead th {\n",
       "        text-align: right;\n",
       "    }\n",
       "</style>\n",
       "<table border=\"1\" class=\"dataframe\">\n",
       "  <thead>\n",
       "    <tr style=\"text-align: right;\">\n",
       "      <th></th>\n",
       "      <th>description</th>\n",
       "      <th>is_bad</th>\n",
       "    </tr>\n",
       "  </thead>\n",
       "  <tbody>\n",
       "    <tr>\n",
       "      <th>0</th>\n",
       "      <td>Звонить 89425546881</td>\n",
       "      <td>1</td>\n",
       "    </tr>\n",
       "    <tr>\n",
       "      <th>1</th>\n",
       "      <td>Мобильная перегородка, предназначена для разгр...</td>\n",
       "      <td>0</td>\n",
       "    </tr>\n",
       "    <tr>\n",
       "      <th>2</th>\n",
       "      <td>Шины зимние б/у Marshal Assimetric I”Zen KW 61...</td>\n",
       "      <td>1</td>\n",
       "    </tr>\n",
       "    <tr>\n",
       "      <th>3</th>\n",
       "      <td>Продаю кровать-трансформер производства \"Столп...</td>\n",
       "      <td>0</td>\n",
       "    </tr>\n",
       "    <tr>\n",
       "      <th>4</th>\n",
       "      <td>Мот в отличном состоянии для своих лет, Родной...</td>\n",
       "      <td>0</td>\n",
       "    </tr>\n",
       "  </tbody>\n",
       "</table>\n",
       "</div>"
      ],
      "text/plain": [
       "                                         description  is_bad\n",
       "0                                Звонить 89425546881       1\n",
       "1  Мобильная перегородка, предназначена для разгр...       0\n",
       "2  Шины зимние б/у Marshal Assimetric I”Zen KW 61...       1\n",
       "3  Продаю кровать-трансформер производства \"Столп...       0\n",
       "4  Мот в отличном состоянии для своих лет, Родной...       0"
      ]
     },
     "execution_count": 10,
     "metadata": {},
     "output_type": "execute_result"
    }
   ],
   "source": [
    "ad = avito_ad[['description', 'is_bad']]\n",
    "ad.head()"
   ]
  },
  {
   "cell_type": "code",
   "execution_count": 24,
   "id": "30ad7be4",
   "metadata": {},
   "outputs": [],
   "source": [
    "import regex as re\n",
    "def preprocess_text(sen):\n",
    "    # Removing html tags\n",
    "    sentence = remove_tags(sen)\n",
    "\n",
    "    # Remove punctuations and numbers\n",
    "    sentence = re.sub('[^0-9a-zA-Zа-яA-Я+]', ' ', sentence)\n",
    "\n",
    "    # Single character removal\n",
    "    sentence = re.sub(r\"\\s+[^0-9a-zA-Zа-яA-Я+]\\s+\", ' ', sentence)\n",
    "\n",
    "    # Removing multiple spaces\n",
    "    sentence = re.sub(r'\\s+', ' ', sentence)\n",
    "\n",
    "    return sentence\n",
    "\n",
    "TAG_RE = re.compile(r'<[^>]+>')\n",
    "\n",
    "def remove_tags(text):\n",
    "    return TAG_RE.sub('', text)"
   ]
  },
  {
   "cell_type": "code",
   "execution_count": 25,
   "id": "4f50d14e",
   "metadata": {},
   "outputs": [],
   "source": [
    "ads = []\n",
    "sentences = list(ad['description'])\n",
    "for sen in sentences:\n",
    "    ads.append(preprocess_text(sen))"
   ]
  },
  {
   "cell_type": "code",
   "execution_count": 14,
   "id": "ae7a409e",
   "metadata": {},
   "outputs": [],
   "source": [
    "y = ad['is_bad']"
   ]
  },
  {
   "cell_type": "code",
   "execution_count": 28,
   "id": "1cce068f",
   "metadata": {},
   "outputs": [
    {
     "data": {
      "text/plain": [
       "'toyo observe g5 ice без грыж и порезов звонить на 89155903052 '"
      ]
     },
     "execution_count": 28,
     "metadata": {},
     "output_type": "execute_result"
    }
   ],
   "source": [
    "ads[10]"
   ]
  },
  {
   "cell_type": "code",
   "execution_count": 29,
   "id": "e5612324",
   "metadata": {},
   "outputs": [
    {
     "data": {
      "text/plain": [
       "1"
      ]
     },
     "execution_count": 29,
     "metadata": {},
     "output_type": "execute_result"
    }
   ],
   "source": [
    "y[10]"
   ]
  },
  {
   "cell_type": "code",
   "execution_count": 30,
   "id": "d90d0865",
   "metadata": {},
   "outputs": [],
   "source": [
    "BertTokenizer = bert.bert_tokenization.FullTokenizer\n",
    "bert_layer = hub.KerasLayer(\"https://tfhub.dev/tensorflow/bert_en_uncased_L-12_H-768_A-12/1\",\n",
    "                            trainable=False)\n",
    "vocabulary_file = bert_layer.resolved_object.vocab_file.asset_path.numpy()\n",
    "to_lower_case = bert_layer.resolved_object.do_lower_case.numpy()\n",
    "tokenizer = BertTokenizer(vocabulary_file, to_lower_case)\n"
   ]
  },
  {
   "cell_type": "code",
   "execution_count": 32,
   "id": "8c926d5a",
   "metadata": {},
   "outputs": [
    {
     "data": {
      "text/plain": [
       "['don', \"'\", 't', 'be', 'so', 'judgment', '##al']"
      ]
     },
     "execution_count": 32,
     "metadata": {},
     "output_type": "execute_result"
    }
   ],
   "source": [
    "tokenizer.tokenize(\"don't be so judgmental\")"
   ]
  },
  {
   "cell_type": "code",
   "execution_count": 33,
   "id": "c233e3e5",
   "metadata": {},
   "outputs": [
    {
     "data": {
      "text/plain": [
       "[2123, 2102, 2022, 2061, 8689, 2389]"
      ]
     },
     "execution_count": 33,
     "metadata": {},
     "output_type": "execute_result"
    }
   ],
   "source": [
    "tokenizer.convert_tokens_to_ids(tokenizer.tokenize(\"dont be so judgmental\"))"
   ]
  },
  {
   "cell_type": "code",
   "execution_count": 36,
   "id": "d58fd10c",
   "metadata": {},
   "outputs": [],
   "source": [
    "def tokenize_ads(text_description):\n",
    "    return tokenizer.convert_tokens_to_ids(tokenizer.tokenize(text_description))"
   ]
  },
  {
   "cell_type": "code",
   "execution_count": 38,
   "id": "b514b24b",
   "metadata": {},
   "outputs": [],
   "source": [
    "tokenized_ads = [tokenize_ads(token_ad) for token_ad in ads]"
   ]
  },
  {
   "cell_type": "code",
   "execution_count": 40,
   "id": "f90a5c11",
   "metadata": {},
   "outputs": [],
   "source": [
    "ads_with_len = [[token_ad, y[i], len(token_ad)]\n",
    "                 for i, token_ad in enumerate(tokenized_ads)]\n"
   ]
  },
  {
   "cell_type": "code",
   "execution_count": 42,
   "id": "2ca130a7",
   "metadata": {},
   "outputs": [],
   "source": [
    "ads_with_len.sort(key=lambda x: x[2])"
   ]
  },
  {
   "cell_type": "code",
   "execution_count": 43,
   "id": "3a951006",
   "metadata": {},
   "outputs": [],
   "source": [
    "sorted_ads_labels = [(ads_lab[0], ads_lab[1]) for ads_lab in ads_with_len]\n"
   ]
  },
  {
   "cell_type": "code",
   "execution_count": 44,
   "id": "eb67410c",
   "metadata": {},
   "outputs": [],
   "source": [
    "processed_dataset = tf.data.Dataset.from_generator(lambda: sorted_ads_labels, output_types=(tf.int32, tf.int32))"
   ]
  },
  {
   "cell_type": "code",
   "execution_count": 46,
   "id": "3265d553",
   "metadata": {},
   "outputs": [],
   "source": [
    "BATCH_SIZE = 32\n",
    "batched_dataset = processed_dataset.padded_batch(BATCH_SIZE, padded_shapes=((None, ), ()))"
   ]
  },
  {
   "cell_type": "code",
   "execution_count": 47,
   "id": "7d3b2d2d",
   "metadata": {},
   "outputs": [
    {
     "data": {
      "text/plain": [
       "(<tf.Tensor: shape=(32, 9), dtype=int32, numpy=\n",
       " array([[ 1040,  2361,     0,     0,     0,     0,     0,     0,     0],\n",
       "        [ 3515, 21472, 27009,     0,     0,     0,     0,     0,     0],\n",
       "        [ 1192, 19259, 14150, 15290,     0,     0,     0,     0,     0],\n",
       "        [ 1044,  2232,  4246,  2290,     0,     0,     0,     0,     0],\n",
       "        [ 6227, 12740, 12740, 19841,  8889,     0,     0,     0,     0],\n",
       "        [ 6486, 23632, 16068, 17465,  2575, 21057,     0,     0,     0],\n",
       "        [ 5986,  2575,  2581, 16086, 12740, 22394,     0,     0,     0],\n",
       "        [ 1195, 10260, 29740, 14150, 29752, 15414,     0,     0,     0],\n",
       "        [ 6353, 16932,  6353, 17134,  6353, 16068,     0,     0,     0],\n",
       "        [ 6486,  2692, 21057, 20842, 24087, 17914,     0,     0,     0],\n",
       "        [ 1187, 10260,  1182, 29747, 15290,  4278,     0,     0,     0],\n",
       "        [ 1196, 16856, 14150, 29752, 18947, 14150,     0,     0,     0],\n",
       "        [ 6486,  2575,  2620,  6227,  2509,  3486,  2538,     0,     0],\n",
       "        [ 1188, 29747, 29746, 16856, 10260, 25529, 19865,     0,     0],\n",
       "        [ 6486, 17134, 21486,  2620,  2620, 21057,  2575,     0,     0],\n",
       "        [ 6486,  2692, 17914,  2683,  2683, 11387, 16932,     0,     0],\n",
       "        [ 6486,  2692, 20842,  2620, 14142,  2575, 23833,     0,     0],\n",
       "        [ 1202, 10260, 29747, 29113,  8292, 28228,  2532,     0,     0],\n",
       "        [ 6486, 22907, 24087, 20958,  2575,  2683,  2620,     0,     0],\n",
       "        [ 6486, 20842,  2683, 14526, 17134,  2683,  2509,     0,     0],\n",
       "        [ 1009,  6535, 17788,  6365,  2692,  6356,  4008,     0,     0],\n",
       "        [ 6486, 24096,  2620, 26224, 12521,  2581,  2549,     0,     0],\n",
       "        [ 6486, 16576, 16086, 18827,  2692,  2581,  2487,     0,     0],\n",
       "        [ 1193, 29746, 10325, 29747, 28995, 10325, 15290,     0,     0],\n",
       "        [ 1194, 14150, 16856, 14150, 29747, 17432, 23742, 10260,     0],\n",
       "        [ 1194, 14150, 16856, 14150, 29747, 17432, 22919, 10260,     0],\n",
       "        [ 1195, 15290, 29744, 10325, 19865, 16327,  2753,  6163,     0],\n",
       "        [ 1009,  6535, 21084, 19961,  2692,  2620, 22407,  2549,     0],\n",
       "        [ 1009,  6535, 12376,  2581, 21926,  2581, 17788,  2629,     0],\n",
       "        [ 1191, 14150, 18947, 22919, 10260, 29743, 18947, 10325, 23925],\n",
       "        [12436, 26863, 15750,  4859, 15603, 13619,  3207,  2595,  6820],\n",
       "        [ 6205, 22394,  2692,  6353, 28311,  2692, 27005, 16853,  2483]])>,\n",
       " <tf.Tensor: shape=(32,), dtype=int32, numpy=\n",
       " array([0, 1, 0, 0, 0, 1, 1, 0, 0, 1, 0, 0, 1, 0, 1, 1, 1, 0, 1, 1, 1, 1,\n",
       "        1, 0, 1, 1, 0, 1, 1, 0, 1, 0])>)"
      ]
     },
     "execution_count": 47,
     "metadata": {},
     "output_type": "execute_result"
    }
   ],
   "source": [
    "next(iter(batched_dataset))"
   ]
  },
  {
   "cell_type": "code",
   "execution_count": 50,
   "id": "676d6d08",
   "metadata": {},
   "outputs": [],
   "source": [
    "TOTAL_BATCHES = math.ceil(len(sorted_ads_labels) / BATCH_SIZE)\n",
    "TEST_BATCHES = TOTAL_BATCHES // 10\n",
    "batched_dataset.shuffle(TOTAL_BATCHES)\n",
    "test_data = batched_dataset.take(TEST_BATCHES)\n",
    "train_data = batched_dataset.skip(TEST_BATCHES)"
   ]
  },
  {
   "cell_type": "markdown",
   "id": "2e2f0e5b",
   "metadata": {},
   "source": [
    "# НАКОНЕЦ МОДЕЛЬ!)"
   ]
  },
  {
   "cell_type": "code",
   "execution_count": 51,
   "id": "027be683",
   "metadata": {},
   "outputs": [],
   "source": [
    "class TEXT_MODEL(tf.keras.Model):\n",
    "    \n",
    "    def __init__(self,\n",
    "                 vocabulary_size,\n",
    "                 embedding_dimensions=128,\n",
    "                 cnn_filters=50,\n",
    "                 dnn_units=512,\n",
    "                 model_output_classes=2,\n",
    "                 dropout_rate=0.1,\n",
    "                 training=False,\n",
    "                 name=\"text_model\"):\n",
    "        super(TEXT_MODEL, self).__init__(name=name)\n",
    "        \n",
    "        self.embedding = layers.Embedding(vocabulary_size,\n",
    "                                          embedding_dimensions)\n",
    "        self.cnn_layer1 = layers.Conv1D(filters=cnn_filters,\n",
    "                                        kernel_size=2,\n",
    "                                        padding=\"valid\",\n",
    "                                        activation=\"relu\")\n",
    "        self.cnn_layer2 = layers.Conv1D(filters=cnn_filters,\n",
    "                                        kernel_size=3,\n",
    "                                        padding=\"valid\",\n",
    "                                        activation=\"relu\")\n",
    "        self.cnn_layer3 = layers.Conv1D(filters=cnn_filters,\n",
    "                                        kernel_size=4,\n",
    "                                        padding=\"valid\",\n",
    "                                        activation=\"relu\")\n",
    "        self.pool = layers.GlobalMaxPool1D()\n",
    "        \n",
    "        self.dense_1 = layers.Dense(units=dnn_units, activation=\"relu\")\n",
    "        self.dropout = layers.Dropout(rate=dropout_rate)\n",
    "        if model_output_classes == 2:\n",
    "            self.last_dense = layers.Dense(units=1,\n",
    "                                           activation=\"sigmoid\")\n",
    "        else:\n",
    "            self.last_dense = layers.Dense(units=model_output_classes,\n",
    "                                           activation=\"softmax\")\n",
    "    \n",
    "    def call(self, inputs, training):\n",
    "        l = self.embedding(inputs)\n",
    "        l_1 = self.cnn_layer1(l) \n",
    "        l_1 = self.pool(l_1) \n",
    "        l_2 = self.cnn_layer2(l) \n",
    "        l_2 = self.pool(l_2)\n",
    "        l_3 = self.cnn_layer3(l)\n",
    "        l_3 = self.pool(l_3) \n",
    "        \n",
    "        concatenated = tf.concat([l_1, l_2, l_3], axis=-1) # (batch_size, 3 * cnn_filters)\n",
    "        concatenated = self.dense_1(concatenated)\n",
    "        concatenated = self.dropout(concatenated, training)\n",
    "        model_output = self.last_dense(concatenated)\n",
    "        \n",
    "        return model_output\n"
   ]
  },
  {
   "cell_type": "code",
   "execution_count": 52,
   "id": "28ce288b",
   "metadata": {},
   "outputs": [],
   "source": [
    "VOCAB_LENGTH = len(tokenizer.vocab)\n",
    "EMB_DIM = 200\n",
    "CNN_FILTERS = 100\n",
    "DNN_UNITS = 256\n",
    "OUTPUT_CLASSES = 2\n",
    "\n",
    "DROPOUT_RATE = 0.2\n",
    "\n",
    "NB_EPOCHS = 5\n"
   ]
  },
  {
   "cell_type": "code",
   "execution_count": 53,
   "id": "f7aa4a72",
   "metadata": {},
   "outputs": [],
   "source": [
    "text_model = TEXT_MODEL(vocabulary_size=VOCAB_LENGTH,\n",
    "                        embedding_dimensions=EMB_DIM,\n",
    "                        cnn_filters=CNN_FILTERS,\n",
    "                        dnn_units=DNN_UNITS,\n",
    "                        model_output_classes=OUTPUT_CLASSES,\n",
    "                        dropout_rate=DROPOUT_RATE)\n"
   ]
  },
  {
   "cell_type": "code",
   "execution_count": 54,
   "id": "c7e1d2fc",
   "metadata": {},
   "outputs": [],
   "source": [
    "if OUTPUT_CLASSES == 2:\n",
    "    text_model.compile(loss=\"binary_crossentropy\",\n",
    "                       optimizer=\"adam\",\n",
    "                       metrics=[\"accuracy\"])\n",
    "else:\n",
    "    text_model.compile(loss=\"sparse_categorical_crossentropy\",\n",
    "                       optimizer=\"adam\",\n",
    "                       metrics=[\"sparse_categorical_accuracy\"])\n"
   ]
  },
  {
   "cell_type": "code",
   "execution_count": 55,
   "id": "1a34af35",
   "metadata": {},
   "outputs": [
    {
     "name": "stdout",
     "output_type": "stream",
     "text": [
      "Epoch 1/5\n",
      "458/458 [==============================] - 102s 221ms/step - loss: 0.2880 - accuracy: 0.8767\n",
      "Epoch 2/5\n",
      "458/458 [==============================] - 95s 208ms/step - loss: 0.1785 - accuracy: 0.9311\n",
      "Epoch 3/5\n",
      "458/458 [==============================] - 95s 206ms/step - loss: 0.1084 - accuracy: 0.9612\n",
      "Epoch 4/5\n",
      "458/458 [==============================] - 96s 209ms/step - loss: 0.0689 - accuracy: 0.9760\n",
      "Epoch 5/5\n",
      "458/458 [==============================] - 94s 205ms/step - loss: 0.0502 - accuracy: 0.9825\n"
     ]
    },
    {
     "data": {
      "text/plain": [
       "<tensorflow.python.keras.callbacks.History at 0x1fdef774d60>"
      ]
     },
     "execution_count": 55,
     "metadata": {},
     "output_type": "execute_result"
    }
   ],
   "source": [
    "text_model.fit(train_data, epochs=NB_EPOCHS)"
   ]
  },
  {
   "cell_type": "code",
   "execution_count": 57,
   "id": "bc9e950c",
   "metadata": {},
   "outputs": [
    {
     "name": "stdout",
     "output_type": "stream",
     "text": [
      "50/50 [==============================] - 1s 9ms/step - loss: 0.3477 - accuracy: 0.8788\n",
      "[0.34773239493370056, 0.8787500262260437]\n"
     ]
    }
   ],
   "source": [
    "results = text_model.evaluate(test_data)\n",
    "print(results)"
   ]
  },
  {
   "cell_type": "code",
   "execution_count": null,
   "id": "a3c0902a",
   "metadata": {},
   "outputs": [],
   "source": []
  }
 ],
 "metadata": {
  "kernelspec": {
   "display_name": "Python 3",
   "language": "python",
   "name": "python3"
  },
  "language_info": {
   "codemirror_mode": {
    "name": "ipython",
    "version": 3
   },
   "file_extension": ".py",
   "mimetype": "text/x-python",
   "name": "python",
   "nbconvert_exporter": "python",
   "pygments_lexer": "ipython3",
   "version": "3.8.8"
  }
 },
 "nbformat": 4,
 "nbformat_minor": 5
}
